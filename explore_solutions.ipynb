{
 "cells": [
  {
   "cell_type": "code",
   "execution_count": null,
   "metadata": {},
   "outputs": [],
   "source": [
    "import os\n",
    "import pandas as pd\n",
    "from utils import load_sol_files\n",
    "from tracktour._io_util import load_tiff_frames\n",
    "\n",
    "root_pth = '/home/ddon0001/PhD/experiments/scaled/no_merges_all'\n",
    "ds_summary_path = os.path.join(root_pth, 'summary.csv')\n",
    "ds_info = pd.read_csv(ds_summary_path)[['ds_name', 'det_path']]\n",
    "overall_df_path = os.path.join(root_pth, 'all_edges_with_target.csv')"
   ]
  },
  {
   "cell_type": "code",
   "execution_count": null,
   "metadata": {},
   "outputs": [],
   "source": [
    "ds_name = 'Fluo-N2DH-SIM+_01'\n",
    "sol_pth = os.path.join(root_pth, ds_name)\n",
    "_, all_edges, nx_sol, gt_graph, gt_to_sol, sol_to_gt = load_sol_files(sol_pth)\n",
    "# res_seg = load_tiff_frames(\"/home/ddon0001/PhD/experiments/error_sampling_iter/FFluo-N3DH-SIM+/01_RES\")"
   ]
  },
  {
   "cell_type": "code",
   "execution_count": null,
   "metadata": {},
   "outputs": [],
   "source": [
    "divs = [node for node in gt_graph.nodes if gt_graph.out_degree(node) > 1]\n",
    "len(divs)"
   ]
  },
  {
   "cell_type": "code",
   "execution_count": null,
   "metadata": {},
   "outputs": [],
   "source": [
    "our_divs = [node for node in nx_sol.nodes if nx_sol.out_degree(node) > 1]\n",
    "len(our_divs)"
   ]
  },
  {
   "cell_type": "code",
   "execution_count": null,
   "metadata": {},
   "outputs": [],
   "source": [
    "our_divs"
   ]
  },
  {
   "cell_type": "code",
   "execution_count": null,
   "metadata": {},
   "outputs": [],
   "source": [
    "nx_sol.nodes[290]"
   ]
  },
  {
   "cell_type": "code",
   "execution_count": null,
   "metadata": {},
   "outputs": [],
   "source": [
    "[nx_sol.edges[edge] for edge in nx_sol.out_edges(290)]"
   ]
  },
  {
   "cell_type": "code",
   "execution_count": null,
   "metadata": {},
   "outputs": [],
   "source": [
    "list(gt_graph.successors('11_9'))"
   ]
  },
  {
   "cell_type": "code",
   "execution_count": null,
   "metadata": {},
   "outputs": [],
   "source": [
    "all_edges[all_edges.u == -3]['cost'].describe()"
   ]
  },
  {
   "cell_type": "code",
   "execution_count": null,
   "metadata": {},
   "outputs": [],
   "source": [
    "all_edges[all_edges.u == -2]['cost'].describe()"
   ]
  },
  {
   "cell_type": "code",
   "execution_count": null,
   "metadata": {},
   "outputs": [],
   "source": [
    "our_apps = [node for node in nx_sol.nodes if nx_sol.in_degree(node) == 0]\n",
    "len(our_apps)"
   ]
  },
  {
   "cell_type": "code",
   "execution_count": null,
   "metadata": {},
   "outputs": [],
   "source": [
    "[edge for edge in nx_sol.edges if nx_sol.edges[edge]['EdgeFlag.WRONG_SEMANTIC']]"
   ]
  },
  {
   "cell_type": "code",
   "execution_count": null,
   "metadata": {},
   "outputs": [],
   "source": [
    "[nx_sol.nodes[295], nx_sol.nodes[325]]"
   ]
  },
  {
   "cell_type": "code",
   "execution_count": null,
   "metadata": {},
   "outputs": [],
   "source": [
    "list(nx_sol.predecessors(329))"
   ]
  },
  {
   "cell_type": "code",
   "execution_count": null,
   "metadata": {},
   "outputs": [],
   "source": [
    "gt_to_sol['33_10']"
   ]
  },
  {
   "cell_type": "code",
   "execution_count": null,
   "metadata": {},
   "outputs": [],
   "source": [
    "gt_graph.out_edges('18_9')"
   ]
  },
  {
   "cell_type": "code",
   "execution_count": null,
   "metadata": {},
   "outputs": [],
   "source": [
    "apps = [node for node in gt_graph.nodes if gt_graph.in_degree(node) == 0]\n",
    "len(apps)"
   ]
  },
  {
   "cell_type": "code",
   "execution_count": null,
   "metadata": {},
   "outputs": [],
   "source": [
    "skips = [edge for edge in gt_graph.edges if gt_graph.nodes[edge[0]]['t'] + 1 != gt_graph.nodes[edge[1]]['t']]\n",
    "len(skips)"
   ]
  },
  {
   "cell_type": "code",
   "execution_count": null,
   "metadata": {},
   "outputs": [],
   "source": []
  },
  {
   "cell_type": "code",
   "execution_count": null,
   "metadata": {},
   "outputs": [],
   "source": [
    "import networkx as nx\n",
    "\n",
    "div_merge = set()\n",
    "for node in nx_sol.nodes:\n",
    "    if nx_sol.in_degree(node) > 1:\n",
    "        merge_edges = set(nx_sol.in_edges(node))\n",
    "        div_merge.update(merge_edges)\n",
    "    if nx_sol.out_degree(node) > 1:\n",
    "        div_edges = set(nx_sol.out_edges(node))\n",
    "        div_merge.update(div_edges)\n",
    "non_div_merge = set(nx_sol.edges) - div_merge\n",
    "subg = nx_sol.edge_subgraph(non_div_merge)\n",
    "ccs = nx.connected_components(subg.to_undirected())\n",
    "tid_dict = {}\n",
    "for i, cc in enumerate(ccs, start=1):\n",
    "    tid_dict.update({node: i for node in cc})\n",
    "nx.set_node_attributes(nx_sol, tid_dict, 'tid')"
   ]
  },
  {
   "cell_type": "code",
   "execution_count": null,
   "metadata": {},
   "outputs": [],
   "source": [
    "[node for node in nx_sol.nodes if nx_sol.nodes[node]['t'] == 24 and nx_sol.nodes[node]['y'] < 19]"
   ]
  },
  {
   "cell_type": "code",
   "execution_count": null,
   "metadata": {},
   "outputs": [],
   "source": [
    "nx_sol.nodes[1337]"
   ]
  },
  {
   "cell_type": "code",
   "execution_count": null,
   "metadata": {},
   "outputs": [],
   "source": [
    "list(nx_sol.successors(1337))"
   ]
  },
  {
   "cell_type": "code",
   "execution_count": null,
   "metadata": {},
   "outputs": [],
   "source": [
    "import pprint\n",
    "from traccuracy import run_metrics\n",
    "from traccuracy.loaders import load_ctc_data\n",
    "from traccuracy.matchers import CTCMatcher, IOUMatcher\n",
    "from traccuracy.metrics import CTCMetrics, DivisionMetrics\n",
    "\n",
    "pp = pprint.PrettyPrinter(indent=4)\n",
    "\n",
    "gt_data = load_ctc_data(\n",
    "    '/home/ddon0001/PhD/data/cell_tracking_challenge/SUBMISSION/Fluo-N2DL-HeLa/02_GT/TRA/',\n",
    ")\n",
    "pred_data = load_ctc_data(\n",
    "    '/home/ddon0001/PhD/experiments/error_sampling_iter/Fluo-N2DL-HeLa/02_RES/',\n",
    ")\n",
    "ctc_results = run_metrics(\n",
    "    gt_data=gt_data, \n",
    "    pred_data=pred_data, \n",
    "    matcher=CTCMatcher(), \n",
    "    metrics=[CTCMetrics()],\n",
    ")\n",
    "pp.pprint(ctc_results)"
   ]
  },
  {
   "cell_type": "code",
   "execution_count": null,
   "metadata": {},
   "outputs": [],
   "source": [
    "pred_sol = pred_data.graph\n",
    "gt_sol = gt_data.graph"
   ]
  },
  {
   "cell_type": "code",
   "execution_count": null,
   "metadata": {},
   "outputs": [],
   "source": [
    "gt_sol"
   ]
  },
  {
   "cell_type": "code",
   "execution_count": null,
   "metadata": {},
   "outputs": [],
   "source": [
    "from traccuracy import EdgeFlag\n",
    "\n",
    "fps = [edge for edge in pred_sol.edges if pred_sol.edges[edge][EdgeFlag.FALSE_POS]]"
   ]
  },
  {
   "cell_type": "code",
   "execution_count": null,
   "metadata": {},
   "outputs": [],
   "source": [
    "fps"
   ]
  },
  {
   "cell_type": "code",
   "execution_count": null,
   "metadata": {},
   "outputs": [],
   "source": [
    "list(pred_sol.successors('48_37'))"
   ]
  },
  {
   "cell_type": "code",
   "execution_count": null,
   "metadata": {},
   "outputs": [],
   "source": [
    "pred_sol.nodes['94_24']"
   ]
  },
  {
   "cell_type": "code",
   "execution_count": null,
   "metadata": {},
   "outputs": [],
   "source": [
    "matcher = CTCMatcher()\n",
    "mapping = matcher.compute_mapping(gt_data, pred_data)\n",
    "gt_to_sol = {}\n",
    "sol_to_gt = {}\n",
    "for gt, pred in mapping.mapping:\n",
    "    gt_to_sol[gt] = pred\n",
    "    sol_to_gt[pred] = gt"
   ]
  },
  {
   "cell_type": "code",
   "execution_count": null,
   "metadata": {},
   "outputs": [],
   "source": [
    "sol_to_gt['48_37']"
   ]
  },
  {
   "cell_type": "code",
   "execution_count": null,
   "metadata": {},
   "outputs": [],
   "source": [
    "list(gt_sol.successors('24_37'))"
   ]
  },
  {
   "cell_type": "code",
   "execution_count": null,
   "metadata": {},
   "outputs": [],
   "source": [
    "from traccuracy.loaders import load_ctc_data\n",
    "pth = '/home/ddon0001/PhD/experiments/resolve_sampling/Fluo-N3DH-CE/02_RES'\n",
    "all_edges_pth = '/home/ddon0001/PhD/experiments/resolve_sampling/Fluo-N3DH-CE/02_all_edges.csv'\n",
    "\n",
    "sol_g = load_ctc_data(pth).graph"
   ]
  },
  {
   "cell_type": "code",
   "execution_count": null,
   "metadata": {},
   "outputs": [],
   "source": [
    "merges = [node for node in sol_g.nodes if sol_g.in_degree(node) > 1]\n",
    "len(merges)"
   ]
  },
  {
   "cell_type": "code",
   "execution_count": null,
   "metadata": {},
   "outputs": [],
   "source": [
    "triple_children = [node for node in sol_g.nodes if sol_g.out_degree(node) > 2]\n",
    "len(triple_children)"
   ]
  },
  {
   "cell_type": "code",
   "execution_count": null,
   "metadata": {},
   "outputs": [],
   "source": [
    "import pandas as pd\n",
    "all_edges = pd.read_csv(all_edges_pth)\n",
    "correct = all_edges[all_edges.oracle_is_correct == 1]\n",
    "assert correct.flow.sum() == len(correct)\n",
    "incorrect = all_edges[all_edges.oracle_is_correct == 0]\n",
    "assert incorrect.flow.sum() == 0\n",
    "fractional = all_edges[all_edges.flow % 1 != 0]\n",
    "assert len(fractional) == 0"
   ]
  },
  {
   "cell_type": "code",
   "execution_count": 1,
   "metadata": {},
   "outputs": [
    {
     "name": "stderr",
     "output_type": "stream",
     "text": [
      "Loading TIFFs: 100%|██████████| 299/299 [00:00<00:00, 398.05it/s]\n",
      "Loading TIFFs: 100%|██████████| 299/299 [00:00<00:00, 589.39it/s]\n",
      "2 non-connected masks at t=286.\n",
      "1 non-connected masks at t=287.\n",
      "Matching frames: 100%|██████████| 300/300 [00:05<00:00, 50.61it/s] \n",
      "Evaluating nodes: 100%|██████████| 71250/71250 [00:00<00:00, 231533.63it/s]\n",
      "Evaluating FP edges: 100%|██████████| 71129/71129 [00:00<00:00, 366152.93it/s]\n",
      "Evaluating FN edges: 100%|██████████| 71201/71201 [00:00<00:00, 370054.77it/s]\n"
     ]
    },
    {
     "name": "stdout",
     "output_type": "stream",
     "text": [
      "[   {   'matcher': {'name': 'CTCMatcher'},\n",
      "        'metric': {   'e_weights': {'fn': 1.5, 'fp': 1, 'ws': 1},\n",
      "                      'name': 'CTCMetrics',\n",
      "                      'v_weights': {'fn': 10, 'fp': 1, 'ns': 5}},\n",
      "        'results': {   'AOGM': 5635.0,\n",
      "                       'DET': 0.9978572328893744,\n",
      "                       'TRA': 0.9931350100477382,\n",
      "                       'fn_edges': 1460,\n",
      "                       'fn_nodes': 153,\n",
      "                       'fp_edges': 1388,\n",
      "                       'fp_nodes': 0,\n",
      "                       'ns_nodes': 0,\n",
      "                       'ws_edges': 527},\n",
      "        'version': '0.1.1.dev28+gb561814.d20240617'}]\n"
     ]
    }
   ],
   "source": [
    "import pprint\n",
    "from traccuracy import run_metrics\n",
    "from traccuracy.loaders import load_ctc_data\n",
    "from traccuracy.matchers import CTCMatcher, IOUMatcher\n",
    "from traccuracy.metrics import CTCMetrics, DivisionMetrics\n",
    "\n",
    "pp = pprint.PrettyPrinter(indent=4)\n",
    "\n",
    "gt_data = load_ctc_data(\n",
    "    '/home/ddon0001/PhD/data/cell_tracking_challenge/SUBMISSION/PhC-C2DL-PSC/01_GT/TRA/',\n",
    ")\n",
    "pred_data = load_ctc_data(\n",
    "    '/home/ddon0001/PhD/experiments/resolve_sampling/PhC-C2DL-PSC/01_RES',\n",
    ")\n",
    "ctc_results = run_metrics(\n",
    "    gt_data=gt_data, \n",
    "    pred_data=pred_data, \n",
    "    matcher=CTCMatcher(), \n",
    "    metrics=[CTCMetrics()],\n",
    ")\n",
    "pp.pprint(ctc_results)"
   ]
  },
  {
   "cell_type": "code",
   "execution_count": null,
   "metadata": {},
   "outputs": [],
   "source": [
    "# PhC-C2DL-PSC/01\n",
    "og = {\n",
    "    \"fn_nodes\": 336,\n",
    "    \"fp_edges\": 1161,\n",
    "    \"fn_edges\": 1421,\n",
    "    \"ws_edges\": 513}\n",
    "resolve = {\n",
    "    'fn_nodes': 153,\n",
    "    'fp_edges': 1388,\n",
    "    'fn_edges': 1460,\n",
    "    'ws_edges': 527}\n",
    "no_resolve = {\n",
    "    'fn_nodes': 153,\n",
    "    'fp_edges': 0,\n",
    "    'fn_edges': 666,\n",
    "    'ws_edges': 194}\n",
    "\n"
   ]
  },
  {
   "cell_type": "code",
   "execution_count": 2,
   "metadata": {},
   "outputs": [
    {
     "name": "stderr",
     "output_type": "stream",
     "text": [
      "Loading TIFFs: 100%|██████████| 149/149 [00:00<00:00, 166.11it/s]\n",
      "1 non-connected masks at t=14.\n",
      "1 non-connected masks at t=16.\n",
      "1 non-connected masks at t=17.\n",
      "1 non-connected masks at t=20.\n",
      "2 non-connected masks at t=23.\n",
      "2 non-connected masks at t=24.\n",
      "3 non-connected masks at t=26.\n",
      "1 non-connected masks at t=27.\n",
      "1 non-connected masks at t=28.\n",
      "1 non-connected masks at t=29.\n",
      "3 non-connected masks at t=30.\n",
      "2 non-connected masks at t=31.\n",
      "3 non-connected masks at t=32.\n",
      "2 non-connected masks at t=33.\n",
      "1 non-connected masks at t=43.\n",
      "2 non-connected masks at t=45.\n",
      "2 non-connected masks at t=46.\n",
      "2 non-connected masks at t=49.\n",
      "1 non-connected masks at t=50.\n",
      "1 non-connected masks at t=52.\n",
      "2 non-connected masks at t=56.\n",
      "1 non-connected masks at t=57.\n",
      "2 non-connected masks at t=61.\n",
      "1 non-connected masks at t=62.\n",
      "1 non-connected masks at t=65.\n",
      "1 non-connected masks at t=66.\n",
      "1 non-connected masks at t=68.\n",
      "2 non-connected masks at t=69.\n",
      "5 non-connected masks at t=71.\n",
      "2 non-connected masks at t=72.\n",
      "1 non-connected masks at t=73.\n",
      "3 non-connected masks at t=75.\n",
      "3 non-connected masks at t=76.\n",
      "3 non-connected masks at t=77.\n",
      "1 non-connected masks at t=79.\n",
      "1 non-connected masks at t=80.\n",
      "1 non-connected masks at t=83.\n",
      "2 non-connected masks at t=86.\n",
      "1 non-connected masks at t=90.\n",
      "1 non-connected masks at t=91.\n",
      "1 non-connected masks at t=102.\n",
      "1 non-connected masks at t=103.\n",
      "2 non-connected masks at t=104.\n",
      "1 non-connected masks at t=107.\n",
      "1 non-connected masks at t=109.\n",
      "1 non-connected masks at t=111.\n",
      "1 non-connected masks at t=112.\n",
      "2 non-connected masks at t=113.\n",
      "1 non-connected masks at t=117.\n",
      "1 non-connected masks at t=118.\n",
      "1 non-connected masks at t=124.\n",
      "1 non-connected masks at t=126.\n",
      "2 non-connected masks at t=127.\n",
      "1 non-connected masks at t=130.\n",
      "3 non-connected masks at t=131.\n",
      "4 non-connected masks at t=132.\n",
      "1 non-connected masks at t=134.\n",
      "2 non-connected masks at t=136.\n",
      "3 non-connected masks at t=137.\n",
      "1 non-connected masks at t=139.\n",
      "1 non-connected masks at t=140.\n",
      "1 non-connected masks at t=144.\n",
      "1 non-connected masks at t=147.\n",
      "1 non-connected masks at t=148.\n",
      "3 non-connected masks at t=149.\n",
      "Loading TIFFs: 100%|██████████| 149/149 [00:00<00:00, 562.51it/s]\n",
      "1 non-connected masks at t=14.\n",
      "1 non-connected masks at t=16.\n",
      "1 non-connected masks at t=17.\n",
      "1 non-connected masks at t=20.\n",
      "2 non-connected masks at t=23.\n",
      "2 non-connected masks at t=24.\n",
      "3 non-connected masks at t=26.\n",
      "1 non-connected masks at t=27.\n",
      "1 non-connected masks at t=28.\n",
      "1 non-connected masks at t=29.\n",
      "3 non-connected masks at t=30.\n",
      "2 non-connected masks at t=31.\n",
      "3 non-connected masks at t=32.\n",
      "2 non-connected masks at t=33.\n",
      "1 non-connected masks at t=43.\n",
      "2 non-connected masks at t=45.\n",
      "2 non-connected masks at t=46.\n",
      "2 non-connected masks at t=49.\n",
      "1 non-connected masks at t=50.\n",
      "1 non-connected masks at t=52.\n",
      "2 non-connected masks at t=56.\n",
      "1 non-connected masks at t=57.\n",
      "2 non-connected masks at t=61.\n",
      "1 non-connected masks at t=62.\n",
      "1 non-connected masks at t=65.\n",
      "1 non-connected masks at t=66.\n",
      "1 non-connected masks at t=68.\n",
      "2 non-connected masks at t=69.\n",
      "5 non-connected masks at t=71.\n",
      "2 non-connected masks at t=72.\n",
      "1 non-connected masks at t=73.\n",
      "3 non-connected masks at t=75.\n",
      "3 non-connected masks at t=76.\n",
      "3 non-connected masks at t=77.\n",
      "1 non-connected masks at t=79.\n",
      "1 non-connected masks at t=80.\n",
      "1 non-connected masks at t=83.\n",
      "2 non-connected masks at t=86.\n",
      "1 non-connected masks at t=90.\n",
      "1 non-connected masks at t=91.\n",
      "1 non-connected masks at t=102.\n",
      "1 non-connected masks at t=103.\n",
      "2 non-connected masks at t=104.\n",
      "1 non-connected masks at t=107.\n",
      "1 non-connected masks at t=109.\n",
      "1 non-connected masks at t=111.\n",
      "1 non-connected masks at t=112.\n",
      "2 non-connected masks at t=113.\n",
      "1 non-connected masks at t=117.\n",
      "1 non-connected masks at t=118.\n",
      "1 non-connected masks at t=124.\n",
      "1 non-connected masks at t=126.\n",
      "2 non-connected masks at t=127.\n",
      "1 non-connected masks at t=130.\n",
      "3 non-connected masks at t=131.\n",
      "4 non-connected masks at t=132.\n",
      "1 non-connected masks at t=134.\n",
      "2 non-connected masks at t=136.\n",
      "3 non-connected masks at t=137.\n",
      "1 non-connected masks at t=139.\n",
      "1 non-connected masks at t=140.\n",
      "1 non-connected masks at t=144.\n",
      "1 non-connected masks at t=147.\n",
      "1 non-connected masks at t=148.\n",
      "3 non-connected masks at t=149.\n",
      "Matching frames: 100%|██████████| 150/150 [00:00<00:00, 194.76it/s]\n",
      "Evaluating nodes: 100%|██████████| 3371/3371 [00:00<00:00, 397766.24it/s]\n",
      "Evaluating FP edges: 100%|██████████| 3331/3331 [00:00<00:00, 490252.88it/s]\n",
      "Evaluating FN edges: 100%|██████████| 3354/3354 [00:00<00:00, 425134.35it/s]"
     ]
    },
    {
     "name": "stdout",
     "output_type": "stream",
     "text": [
      "{   'AOGM': 36.5,\n",
      "    'DET': 1.0,\n",
      "    'TRA': 0.9990578456931932,\n",
      "    'fn_edges': 23,\n",
      "    'fn_nodes': 0,\n",
      "    'fp_edges': 0,\n",
      "    'fp_nodes': 0,\n",
      "    'ns_nodes': 0,\n",
      "    'ws_edges': 2}\n"
     ]
    },
    {
     "name": "stderr",
     "output_type": "stream",
     "text": [
      "\n"
     ]
    }
   ],
   "source": [
    "import pprint\n",
    "from traccuracy import run_metrics\n",
    "from traccuracy.loaders import load_ctc_data\n",
    "from traccuracy.matchers import CTCMatcher, IOUMatcher\n",
    "from traccuracy.metrics import CTCMetrics, DivisionMetrics\n",
    "gt_data = load_ctc_data(\n",
    "    '/home/ddon0001/PhD/data/cell_tracking_challenge/SUBMISSION/Fluo-N2DH-SIM+/02_GT/TRA/',\n",
    ")\n",
    "pred_data = load_ctc_data(\n",
    "    '/home/ddon0001/PhD/experiments/error_sampling_ws/Fluo-N2DH-SIM+/02_RES',\n",
    ")\n",
    "ctc_results = run_metrics(\n",
    "    gt_data=gt_data, \n",
    "    pred_data=pred_data,\n",
    "    matcher=CTCMatcher(), \n",
    "    metrics=[CTCMetrics()],\n",
    ")\n",
    "pp = pprint.PrettyPrinter(indent=4)\n",
    "pp.pprint(ctc_results[0]['results'])"
   ]
  },
  {
   "cell_type": "code",
   "execution_count": null,
   "metadata": {},
   "outputs": [],
   "source": [
    "distance_final = {   'AOGM': 34.5,\n",
    "    'DET': 1.0,\n",
    "    'TRA': 0.999109470586717,\n",
    "    'fn_edges': 23,\n",
    "    'fn_nodes': 0,\n",
    "    'fp_edges': 0,\n",
    "    'fp_nodes': 0,\n",
    "    'ns_nodes': 0,\n",
    "    'ws_edges': 0}\n",
    "\n",
    "sens_final = {   'AOGM': 34.5,\n",
    "    'DET': 1.0,\n",
    "    'TRA': 0.999109470586717,\n",
    "    'fn_edges': 23,\n",
    "    'fn_nodes': 0,\n",
    "    'fp_edges': 0,\n",
    "    'fp_nodes': 0,\n",
    "    'ns_nodes': 0,\n",
    "    'ws_edges': 0}"
   ]
  },
  {
   "cell_type": "code",
   "execution_count": 11,
   "metadata": {},
   "outputs": [
    {
     "name": "stderr",
     "output_type": "stream",
     "text": [
      "Loading TIFFs:   0%|          | 0/91 [00:00<?, ?it/s]"
     ]
    },
    {
     "name": "stderr",
     "output_type": "stream",
     "text": [
      "Loading TIFFs: 100%|██████████| 91/91 [00:00<00:00, 161.85it/s]\n",
      "Loading TIFFs: 100%|██████████| 91/91 [00:00<00:00, 440.80it/s]\n",
      "Matching frames: 100%|██████████| 92/92 [00:00<00:00, 111.97it/s]\n",
      "Evaluating nodes: 100%|██████████| 2503/2503 [00:00<00:00, 381813.46it/s]\n",
      "Evaluating FP edges: 100%|██████████| 2466/2466 [00:00<00:00, 569118.17it/s]\n",
      "Evaluating FN edges: 100%|██████████| 2472/2472 [00:00<00:00, 387876.23it/s]"
     ]
    },
    {
     "name": "stdout",
     "output_type": "stream",
     "text": [
      "{   'AOGM': 149.0,\n",
      "    'DET': 0.9944378228049265,\n",
      "    'TRA': 0.9948403629060184,\n",
      "    'fn_edges': 6,\n",
      "    'fn_nodes': 14,\n",
      "    'fp_edges': 0,\n",
      "    'fp_nodes': 0,\n",
      "    'ns_nodes': 0,\n",
      "    'ws_edges': 0}\n"
     ]
    },
    {
     "name": "stderr",
     "output_type": "stream",
     "text": [
      "\n"
     ]
    }
   ],
   "source": [
    "import pprint\n",
    "from traccuracy import run_metrics\n",
    "from traccuracy.loaders import load_ctc_data\n",
    "from traccuracy.matchers import CTCMatcher, IOUMatcher\n",
    "from traccuracy.metrics import CTCMetrics, DivisionMetrics\n",
    "pp = pprint.PrettyPrinter(indent=4)\n",
    "\n",
    "new_gt_data = load_ctc_data(\n",
    "    '/home/ddon0001/PhD/data/cell_tracking_challenge/SUBMISSION/Fluo-N2DH-GOWT1/02_GT/TRA/',\n",
    ")\n",
    "new_pred_data = load_ctc_data(\n",
    "    '/home/ddon0001/PhD/experiments/error_sampling_ws_fa_fe/Fluo-N2DH-GOWT1/02_RES',\n",
    ")\n",
    "ctc_results = run_metrics(\n",
    "    gt_data=new_gt_data, \n",
    "    pred_data=new_pred_data, \n",
    "    matcher=CTCMatcher(), \n",
    "    metrics=[CTCMetrics()],\n",
    ")\n",
    "pp.pprint(ctc_results[0]['results'])"
   ]
  },
  {
   "cell_type": "code",
   "execution_count": 12,
   "metadata": {},
   "outputs": [
    {
     "data": {
      "text/plain": [
       "['6_46',\n",
       " '6_47',\n",
       " '6_48',\n",
       " '39_0',\n",
       " '39_1',\n",
       " '39_2',\n",
       " '39_3',\n",
       " '40_0',\n",
       " '40_1',\n",
       " '50_20',\n",
       " '41_2',\n",
       " '44_6',\n",
       " '48_17',\n",
       " '46_10']"
      ]
     },
     "execution_count": 12,
     "metadata": {},
     "output_type": "execute_result"
    }
   ],
   "source": [
    "from traccuracy import NodeFlag\n",
    "fn_nodes = [node for node in new_gt_data.graph.nodes if new_gt_data.graph.nodes[node][NodeFlag.FALSE_NEG]]\n",
    "fn_nodes"
   ]
  },
  {
   "cell_type": "code",
   "execution_count": 15,
   "metadata": {},
   "outputs": [
    {
     "data": {
      "text/plain": [
       "[('6_46', '6_47'),\n",
       " ('6_47', '6_48'),\n",
       " ('39_0', '39_1'),\n",
       " ('39_1', '39_2'),\n",
       " ('39_2', '39_3'),\n",
       " ('40_0', '40_1')]"
      ]
     },
     "execution_count": 15,
     "metadata": {},
     "output_type": "execute_result"
    }
   ],
   "source": [
    "from traccuracy import EdgeFlag\n",
    "fn_edges = [edge for edge in new_gt_data.graph.edges if new_gt_data.graph.edges[edge][EdgeFlag.FALSE_NEG]]\n",
    "fn_edges"
   ]
  },
  {
   "cell_type": "code",
   "execution_count": 19,
   "metadata": {},
   "outputs": [
    {
     "data": {
      "text/plain": [
       "[]"
      ]
     },
     "execution_count": 19,
     "metadata": {},
     "output_type": "execute_result"
    }
   ],
   "source": [
    "list(new_gt_data.graph.successors('40_1'))"
   ]
  },
  {
   "cell_type": "code",
   "execution_count": 14,
   "metadata": {},
   "outputs": [
    {
     "name": "stdout",
     "output_type": "stream",
     "text": [
      "6_: 3, 3\n",
      "39_: 4, 4\n",
      "40_: 2, 2\n",
      "41_: 1, 1\n",
      "44_: 1, 1\n",
      "50_: 1, 1\n",
      "46_: 1, 1\n",
      "48_: 1, 1\n"
     ]
    }
   ],
   "source": [
    "nids = ['6_', '39_', '40_', '41_', '44_', '50_', '46_', '48_']\n",
    "\n",
    "for nid in nids:\n",
    "    track_nodes = [node for node in new_gt_data.graph.nodes if node.startswith(nid)]\n",
    "    unfound = [node for node in track_nodes if node in fn_nodes]\n",
    "    # if len(track_nodes) != len(unfound):\n",
    "    print(f\"{nid}: {len(track_nodes)}, {len(unfound)}\")\n",
    "    # print(unfound)"
   ]
  },
  {
   "cell_type": "code",
   "execution_count": 6,
   "metadata": {},
   "outputs": [
    {
     "name": "stderr",
     "output_type": "stream",
     "text": [
      "Matching frames: 100%|██████████| 92/92 [00:00<00:00, 108.33it/s]\n"
     ]
    }
   ],
   "source": [
    "matcher = CTCMatcher().compute_mapping(new_gt_data, new_pred_data)\n",
    "sol_to_gt = {}\n",
    "gt_to_sol = {}\n",
    "for gt, pred in matcher.mapping:\n",
    "    sol_to_gt[pred] = gt\n",
    "    gt_to_sol[gt] = pred"
   ]
  },
  {
   "cell_type": "code",
   "execution_count": 9,
   "metadata": {},
   "outputs": [
    {
     "data": {
      "text/plain": [
       "'36_77'"
      ]
     },
     "execution_count": 9,
     "metadata": {},
     "output_type": "execute_result"
    }
   ],
   "source": [
    "gt_to_sol['21_77']\n"
   ]
  },
  {
   "cell_type": "code",
   "execution_count": 10,
   "metadata": {},
   "outputs": [
    {
     "data": {
      "text/plain": [
       "[]"
      ]
     },
     "execution_count": 10,
     "metadata": {},
     "output_type": "execute_result"
    }
   ],
   "source": [
    "list(new_pred_data.graph.predecessors('36_77'))"
   ]
  },
  {
   "cell_type": "code",
   "execution_count": 5,
   "metadata": {},
   "outputs": [
    {
     "name": "stderr",
     "output_type": "stream",
     "text": [
      "Loading TIFFs: 100%|██████████| 91/91 [00:00<00:00, 276.37it/s]\n",
      "Loading TIFFs: 100%|██████████| 91/91 [00:00<00:00, 796.71it/s]\n",
      "Matching frames: 100%|██████████| 92/92 [00:00<00:00, 182.11it/s]\n",
      "Evaluating nodes: 100%|██████████| 2058/2058 [00:00<00:00, 629972.09it/s]\n",
      "Evaluating FP edges: 100%|██████████| 2035/2035 [00:00<00:00, 798149.30it/s]\n",
      "Evaluating FN edges: 100%|██████████| 2035/2035 [00:00<00:00, 832641.56it/s]"
     ]
    },
    {
     "name": "stdout",
     "output_type": "stream",
     "text": [
      "{   'AOGM': 0.0,\n",
      "    'DET': 1.0,\n",
      "    'TRA': 1.0,\n",
      "    'fn_edges': 0,\n",
      "    'fn_nodes': 0,\n",
      "    'fp_edges': 0,\n",
      "    'fp_nodes': 0,\n",
      "    'ns_nodes': 0,\n",
      "    'ws_edges': 0}\n"
     ]
    },
    {
     "name": "stderr",
     "output_type": "stream",
     "text": [
      "\n"
     ]
    }
   ],
   "source": [
    "import pprint\n",
    "from traccuracy import run_metrics\n",
    "from traccuracy.loaders import load_ctc_data\n",
    "from traccuracy.matchers import CTCMatcher, IOUMatcher\n",
    "from traccuracy.metrics import CTCMetrics, DivisionMetrics\n",
    "pp = pprint.PrettyPrinter(indent=4)\n",
    "\n",
    "gowt_1_gt = load_ctc_data(\n",
    "    '/home/ddon0001/PhD/data/cell_tracking_challenge/SUBMISSION/Fluo-N2DH-GOWT1/01_GT/TRA/',\n",
    ")\n",
    "gowt_1_pred = load_ctc_data(\n",
    "    '/home/ddon0001/PhD/experiments/error_sampling_ws_fa_fe/Fluo-N2DH-GOWT1/01_RES',\n",
    ")\n",
    "ctc_results = run_metrics(\n",
    "    gt_data=gowt_1_gt, \n",
    "    pred_data=gowt_1_pred, \n",
    "    matcher=CTCMatcher(), \n",
    "    metrics=[CTCMetrics()],\n",
    ")\n",
    "pp.pprint(ctc_results[0]['results'])"
   ]
  },
  {
   "cell_type": "code",
   "execution_count": 6,
   "metadata": {},
   "outputs": [
    {
     "data": {
      "text/plain": [
       "['10_46', '16_16']"
      ]
     },
     "execution_count": 6,
     "metadata": {},
     "output_type": "execute_result"
    }
   ],
   "source": [
    "[node for node in gowt_1_gt.graph.nodes if gowt_1_gt.graph.out_degree(node) > 1]"
   ]
  },
  {
   "cell_type": "code",
   "execution_count": 7,
   "metadata": {},
   "outputs": [
    {
     "data": {
      "text/plain": [
       "['9_16', '22_46']"
      ]
     },
     "execution_count": 7,
     "metadata": {},
     "output_type": "execute_result"
    }
   ],
   "source": [
    "[node for node in gowt_1_pred.graph.nodes if gowt_1_pred.graph.out_degree(node) > 1]"
   ]
  },
  {
   "cell_type": "code",
   "execution_count": null,
   "metadata": {},
   "outputs": [],
   "source": []
  }
 ],
 "metadata": {
  "kernelspec": {
   "display_name": "isbi25",
   "language": "python",
   "name": "python3"
  },
  "language_info": {
   "codemirror_mode": {
    "name": "ipython",
    "version": 3
   },
   "file_extension": ".py",
   "mimetype": "text/x-python",
   "name": "python",
   "nbconvert_exporter": "python",
   "pygments_lexer": "ipython3",
   "version": "3.10.13"
  }
 },
 "nbformat": 4,
 "nbformat_minor": 2
}
