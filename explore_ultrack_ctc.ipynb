{
 "cells": [
  {
   "cell_type": "code",
   "execution_count": 1,
   "metadata": {},
   "outputs": [],
   "source": [
    "# stardist / tensorflow env variables setup\n",
    "import os\n",
    "os.environ[\"OMP_NUM_THREADS\"] = \"4\"\n",
    "os.environ[\"CUDA_VISIBLE_DEVICES\"] = \"0\"\n",
    "\n",
    "from pathlib import Path\n",
    "\n",
    "import numpy as np\n",
    "from tqdm import tqdm\n",
    "from rich.pretty import pprint\n",
    "\n",
    "\n",
    "from ultrack import track, to_tracks_layer, tracks_to_zarr\n",
    "from ultrack.imgproc import normalize\n",
    "from ultrack.utils import estimate_parameters_from_labels, labels_to_contours\n",
    "from ultrack.utils.array import array_apply\n",
    "from ultrack.config import MainConfig"
   ]
  },
  {
   "cell_type": "code",
   "execution_count": 2,
   "metadata": {},
   "outputs": [
    {
     "name": "stderr",
     "output_type": "stream",
     "text": [
      "Loading TIFFs: 100%|██████████| 91/91 [00:00<00:00, 110.51it/s]\n",
      "Loading TIFFs: 100%|██████████| 91/91 [00:00<00:00, 362.11it/s]\n"
     ]
    }
   ],
   "source": [
    "from tracktour import load_tiff_frames\n",
    "\n",
    "im_path = '/home/ddon0001/PhD/data/cell_tracking_challenge/ST/Fluo-N2DL-HeLa/01'\n",
    "label_path = '/home/ddon0001/PhD/data/cell_tracking_challenge/ST/Fluo-N2DL-HeLa/01_ST/SEG'\n",
    "\n",
    "ims = load_tiff_frames(im_path)\n",
    "labels = load_tiff_frames(label_path)"
   ]
  },
  {
   "cell_type": "code",
   "execution_count": 3,
   "metadata": {},
   "outputs": [
    {
     "name": "stderr",
     "output_type": "stream",
     "text": [
      "Converting labels to contours: 100%|██████████| 92/92 [00:02<00:00, 45.43it/s]\n"
     ]
    }
   ],
   "source": [
    "detections, edges = labels_to_contours(labels)"
   ]
  },
  {
   "cell_type": "code",
   "execution_count": 4,
   "metadata": {},
   "outputs": [],
   "source": [
    "config = MainConfig()"
   ]
  },
  {
   "cell_type": "code",
   "execution_count": 5,
   "metadata": {},
   "outputs": [
    {
     "name": "stderr",
     "output_type": "stream",
     "text": [
      "/tmp/ipykernel_17461/3506774268.py:1: DeprecationWarning: Argument detection is deprecated, please use foreground instead.\n",
      "  track(detection=detections, edges=edges, config=config, overwrite=True)\n",
      "Adding nodes to database: 100%|██████████| 92/92 [00:30<00:00,  2.97it/s]\n",
      "Linking nodes.: 100%|██████████| 91/91 [00:01<00:00, 67.42it/s]\n"
     ]
    },
    {
     "name": "stdout",
     "output_type": "stream",
     "text": [
      "Set parameter Username\n",
      "Academic license - for non-commercial use only - expires 2025-03-14\n",
      "Using Gurobi solver\n",
      "Solving ILP batch 0\n",
      "Constructing ILP ...\n",
      "Set parameter TimeLimit to value 36000\n",
      "Solving ILP ...\n",
      "Set parameter NodeLimit to value 1073741824\n",
      "Set parameter SolutionLimit to value 1073741824\n",
      "Set parameter IntFeasTol to value 1e-06\n",
      "Set parameter Method to value 3\n",
      "Set parameter MIPGap to value 0.001\n",
      "Gurobi Optimizer version 9.5.2 build v9.5.2rc0 (linux64)\n",
      "Thread count: 8 physical cores, 16 logical processors, using up to 16 threads\n",
      "Optimize a model with 28840 rows, 47562 columns and 88488 nonzeros\n",
      "Model fingerprint: 0xd0f727ab\n",
      "Variable types: 0 continuous, 47562 integer (47562 binary)\n",
      "Coefficient statistics:\n",
      "  Matrix range     [1e+00, 1e+00]\n",
      "  Objective range  [9e-12, 1e+00]\n",
      "  Bounds range     [1e+00, 1e+00]\n",
      "  RHS range        [1e+00, 1e+00]\n",
      "Found heuristic solution: objective -0.0000000\n",
      "Presolve removed 28838 rows and 47558 columns\n",
      "Presolve time: 0.24s\n",
      "Presolved: 2 rows, 4 columns, 6 nonzeros\n",
      "Found heuristic solution: objective 3298.7946150\n",
      "Variable types: 0 continuous, 4 integer (4 binary)\n",
      "\n",
      "Explored 0 nodes (0 simplex iterations) in 0.25 seconds (0.16 work units)\n",
      "Thread count was 16 (of 16 available processors)\n",
      "\n",
      "Solution count 2: 3298.79 -0 \n",
      "\n",
      "Optimal solution found (tolerance 1.00e-03)\n",
      "Best objective 3.298794614976e+03, best bound 3.298794614976e+03, gap 0.0000%\n",
      "Saving solution ...\n",
      "Done!\n"
     ]
    }
   ],
   "source": [
    "track(detection=detections, edges=edges, config=config, overwrite=True)"
   ]
  },
  {
   "cell_type": "code",
   "execution_count": 6,
   "metadata": {},
   "outputs": [
    {
     "name": "stderr",
     "output_type": "stream",
     "text": [
      "Exporting segmentation masks: 100%|██████████| 92/92 [00:00<00:00, 116.82it/s]\n"
     ]
    }
   ],
   "source": [
    "from ultrack.core.export import to_ctc\n",
    "from pathlib import Path\n",
    "\n",
    "to_ctc(\n",
    "    output_dir = Path('/home/ddon0001/PhD/experiments/ultrack/out-of-the-box'),\n",
    "    config=config,\n",
    "    overwrite=True\n",
    ")"
   ]
  },
  {
   "cell_type": "code",
   "execution_count": 14,
   "metadata": {},
   "outputs": [
    {
     "name": "stderr",
     "output_type": "stream",
     "text": [
      "Loading TIFFs: 100%|██████████| 92/92 [00:00<00:00, 364.93it/s]\n",
      "WARNING:traccuracy.loaders._ctc:1 non-connected masks at t=23.\n",
      "WARNING:traccuracy.loaders._ctc:2 non-connected masks at t=52.\n",
      "Loading TIFFs: 100%|██████████| 92/92 [00:00<00:00, 995.97it/s]\n",
      "Matching frames: 100%|██████████| 92/92 [00:00<00:00, 151.91it/s]\n",
      "Evaluating nodes: 100%|██████████| 8550/8550 [00:00<00:00, 541801.50it/s]\n",
      "Evaluating FP edges: 100%|██████████| 8316/8316 [00:00<00:00, 808713.94it/s]\n",
      "Evaluating FN edges: 100%|██████████| 8562/8562 [00:00<00:00, 795508.29it/s]\n"
     ]
    },
    {
     "name": "stdout",
     "output_type": "stream",
     "text": [
      "[   {   'matcher': {'name': 'CTCMatcher'},\n",
      "        'metric': {   'e_weights': {'fn': 1.5, 'fp': 1, 'ws': 1},\n",
      "                      'name': 'CTCMetrics',\n",
      "                      'v_weights': {'fn': 10, 'fp': 1, 'ns': 5}},\n",
      "        'results': {   'AOGM': 1273.5,\n",
      "                       'DET': 0.9905660377358491,\n",
      "                       'TRA': 0.9871665675732871,\n",
      "                       'fn_edges': 255,\n",
      "                       'fn_nodes': 74,\n",
      "                       'fp_edges': 9,\n",
      "                       'fp_nodes': 0,\n",
      "                       'ns_nodes': 15,\n",
      "                       'ws_edges': 67},\n",
      "        'version': '0.1.1.dev67+g4160403'}]\n"
     ]
    }
   ],
   "source": [
    "from traccuracy import run_metrics\n",
    "from traccuracy.loaders import load_ctc_data\n",
    "from traccuracy.matchers import CTCMatcher\n",
    "from traccuracy.metrics import CTCMetrics\n",
    "import pprint\n",
    "pp = pprint.PrettyPrinter(indent=4)\n",
    "\n",
    "\n",
    "gt_data = load_ctc_data('/home/ddon0001/PhD/data/cell_tracking_challenge/ST/Fluo-N2DL-HeLa/01_GT/TRA/')\n",
    "pred_data = load_ctc_data('/home/ddon0001/PhD/experiments/ultrack/')\n",
    "\n",
    "ctc_results = run_metrics(\n",
    "    gt_data=gt_data,\n",
    "    pred_data=pred_data,\n",
    "    matcher=CTCMatcher(),\n",
    "    metrics=[CTCMetrics()]\n",
    ")\n",
    "pp.pprint(ctc_results)\n"
   ]
  },
  {
   "cell_type": "code",
   "execution_count": 17,
   "metadata": {},
   "outputs": [],
   "source": [
    "# we now configure the tracking parameters as per the example in https://github.com/royerlab/ultrack/blob/main/examples/stardist_2d/2d_tracking.ipynb\n",
    "# numbers copied directly - this is kinda broken though because our labels aren't like the stardist labels\n",
    "\n",
    "config.segmentation_config.min_area = 50\n",
    "config.segmentation_config.max_area = 950\n",
    "config.segmentation_config.n_workers = 8\n",
    "\n",
    "config.linking_config.max_distance = 25\n",
    "config.linking_config.n_workers = 8\n",
    "\n",
    "config.tracking_config.appear_weight = -1\n",
    "config.tracking_config.disappear_weight = -1\n",
    "config.tracking_config.division_weight = -0.1\n",
    "config.tracking_config.power = 4\n",
    "config.tracking_config.bias = -0.001\n",
    "config.tracking_config.solution_gap = 0.0"
   ]
  },
  {
   "cell_type": "code",
   "execution_count": 20,
   "metadata": {},
   "outputs": [
    {
     "name": "stderr",
     "output_type": "stream",
     "text": [
      "Converting labels to contours: 100%|██████████| 92/92 [00:03<00:00, 29.15it/s]\n",
      "/tmp/ipykernel_17461/4211839314.py:3: DeprecationWarning: Argument detection is deprecated, please use foreground instead.\n",
      "  track(\n",
      "Adding nodes to database: 100%|██████████| 92/92 [00:10<00:00,  8.40it/s]\n",
      "Linking nodes.: 100%|██████████| 91/91 [00:05<00:00, 16.95it/s]\n"
     ]
    },
    {
     "name": "stdout",
     "output_type": "stream",
     "text": [
      "Set parameter Username\n",
      "Academic license - for non-commercial use only - expires 2025-03-14\n",
      "Using Gurobi solver\n",
      "Solving ILP batch 0\n",
      "Constructing ILP ...\n",
      "Set parameter TimeLimit to value 36000\n",
      "Solving ILP ...\n",
      "Set parameter NodeLimit to value 1073741824\n",
      "Set parameter SolutionLimit to value 1073741824\n",
      "Set parameter IntFeasTol to value 1e-06\n",
      "Set parameter Method to value 3\n",
      "Set parameter MIPGap to value 0\n",
      "Gurobi Optimizer version 9.5.2 build v9.5.2rc0 (linux64)\n",
      "Thread count: 8 physical cores, 16 logical processors, using up to 16 threads\n",
      "Optimize a model with 29913 rows, 51925 columns and 96721 nonzeros\n",
      "Model fingerprint: 0xa47d1986\n",
      "Variable types: 0 continuous, 51925 integer (51925 binary)\n",
      "Coefficient statistics:\n",
      "  Matrix range     [1e+00, 1e+00]\n",
      "  Objective range  [4e-06, 1e+00]\n",
      "  Bounds range     [1e+00, 1e+00]\n",
      "  RHS range        [1e+00, 1e+00]\n",
      "Found heuristic solution: objective -0.0000000\n",
      "Presolve removed 29911 rows and 51921 columns\n",
      "Presolve time: 0.66s\n",
      "Presolved: 2 rows, 4 columns, 6 nonzeros\n",
      "Found heuristic solution: objective 3220.5163751\n",
      "Variable types: 0 continuous, 4 integer (4 binary)\n",
      "\n",
      "Explored 0 nodes (0 simplex iterations) in 0.67 seconds (0.32 work units)\n",
      "Thread count was 16 (of 16 available processors)\n",
      "\n",
      "Solution count 2: 3220.52 -0 \n",
      "\n",
      "Optimal solution found (tolerance 0.00e+00)\n",
      "Best objective 3.220516375060e+03, best bound 3.220516375060e+03, gap 0.0000%\n",
      "Saving solution ...\n",
      "Done!\n"
     ]
    },
    {
     "name": "stderr",
     "output_type": "stream",
     "text": [
      "Exporting segmentation masks: 100%|██████████| 92/92 [00:00<00:00, 122.21it/s]\n"
     ]
    }
   ],
   "source": [
    "# using sigma values from the example\n",
    "new_detections, new_edges = labels_to_contours(labels, sigma=4.0)\n",
    "\n",
    "# and re-track, and re-save\n",
    "track(\n",
    "    detection=new_detections,\n",
    "    edges=new_edges,\n",
    "    config=config,\n",
    "    overwrite=True,\n",
    ")\n",
    "\n",
    "to_ctc(\n",
    "    output_dir = Path('/home/ddon0001/PhD/experiments/ultrack/example-config'),\n",
    "    config=config,\n",
    "    overwrite=True\n",
    ")"
   ]
  },
  {
   "cell_type": "code",
   "execution_count": 21,
   "metadata": {},
   "outputs": [
    {
     "name": "stderr",
     "output_type": "stream",
     "text": [
      "Loading TIFFs: 100%|██████████| 92/92 [00:00<00:00, 998.77it/s]\n",
      "Matching frames: 100%|██████████| 92/92 [00:00<00:00, 156.69it/s]\n",
      "Evaluating nodes: 100%|██████████| 8439/8439 [00:00<00:00, 462895.03it/s]\n",
      "Evaluating FP edges: 100%|██████████| 8341/8341 [00:00<00:00, 854765.32it/s]\n",
      "Evaluating FN edges: 100%|██████████| 8562/8562 [00:00<00:00, 691938.94it/s]"
     ]
    },
    {
     "name": "stdout",
     "output_type": "stream",
     "text": [
      "[   {   'matcher': {'name': 'CTCMatcher'},\n",
      "        'metric': {   'e_weights': {'fn': 1.5, 'fp': 1, 'ws': 1},\n",
      "                      'name': 'CTCMetrics',\n",
      "                      'v_weights': {'fn': 10, 'fp': 1, 'ns': 5}},\n",
      "        'results': {   'AOGM': 2564.0,\n",
      "                       'DET': 0.9756800555619863,\n",
      "                       'TRA': 0.9741618211683614,\n",
      "                       'fn_edges': 252,\n",
      "                       'fn_nodes': 197,\n",
      "                       'fp_edges': 31,\n",
      "                       'fp_nodes': 116,\n",
      "                       'ns_nodes': 3,\n",
      "                       'ws_edges': 54},\n",
      "        'version': '0.1.1.dev67+g4160403'}]\n"
     ]
    },
    {
     "name": "stderr",
     "output_type": "stream",
     "text": [
      "\n"
     ]
    }
   ],
   "source": [
    "new_pred_data = load_ctc_data('/home/ddon0001/PhD/experiments/ultrack/example-config')\n",
    "\n",
    "ctc_results = run_metrics(\n",
    "    gt_data=gt_data,\n",
    "    pred_data=new_pred_data,\n",
    "    matcher=CTCMatcher(),\n",
    "    metrics=[CTCMetrics()]\n",
    ")\n",
    "pp.pprint(ctc_results)"
   ]
  },
  {
   "cell_type": "code",
   "execution_count": null,
   "metadata": {},
   "outputs": [],
   "source": [
    "# it got much worse, ok let's try with the stardist labels\n",
    "\n",
    "\n",
    "# reproduced from https://github.com/royerlab/ultrack/blob/main/examples/stardist_2d/2d_tracking.ipynb\n",
    "\n",
    "model = StarDist2D.from_pretrained(\"2D_versatile_fluo\")\n",
    "stardist_labels = np.zeros_like(image, dtype=np.int32)\n",
    "\n",
    "def predict(frame: np.ndarray, model: StarDist2D) -> np.ndarray:\n",
    "    \"\"\"Normalizes and computes stardist prediction.\"\"\"\n",
    "    frame = normalize(frame, gamma=1.0)\n",
    "    labels, _ = model.predict_instances_big(\n",
    "        frame, \"YX\", block_size=560, min_overlap=96, show_progress=False,\n",
    "    )\n",
    "    return labels\n",
    "\n",
    "array_apply(\n",
    "    image,\n",
    "    out_array=stardist_labels,\n",
    "    func=predict,\n",
    "    model=model,\n",
    ")"
   ]
  }
 ],
 "metadata": {
  "kernelspec": {
   "display_name": "isbi25",
   "language": "python",
   "name": "python3"
  },
  "language_info": {
   "codemirror_mode": {
    "name": "ipython",
    "version": 3
   },
   "file_extension": ".py",
   "mimetype": "text/x-python",
   "name": "python",
   "nbconvert_exporter": "python",
   "pygments_lexer": "ipython3",
   "version": "3.10.14"
  }
 },
 "nbformat": 4,
 "nbformat_minor": 2
}
