{
 "cells": [
  {
   "cell_type": "code",
   "execution_count": 2,
   "metadata": {},
   "outputs": [
    {
     "name": "stdout",
     "output_type": "stream",
     "text": [
      "/home/ddon0001/PhD/experiments/trackastra/Fluo-N3DH-SIM+/02_RES already exists. Skipping...\n",
      "/home/ddon0001/PhD/experiments/trackastra/Fluo-N3DH-SIM+/01_RES already exists. Skipping...\n",
      "/home/ddon0001/PhD/experiments/trackastra/Fluo-C3DL-MDA231/02_RES already exists. Skipping...\n",
      "/home/ddon0001/PhD/experiments/trackastra/Fluo-C3DL-MDA231/01_RES already exists. Skipping...\n",
      "/home/ddon0001/PhD/experiments/trackastra/Fluo-N2DH-GOWT1/02_RES already exists. Skipping...\n",
      "/home/ddon0001/PhD/experiments/trackastra/Fluo-N2DH-GOWT1/01_RES already exists. Skipping...\n",
      "/home/ddon0001/PhD/experiments/trackastra/PhC-C2DH-U373/02_RES already exists. Skipping...\n",
      "/home/ddon0001/PhD/experiments/trackastra/PhC-C2DH-U373/01_RES already exists. Skipping...\n",
      "/home/ddon0001/PhD/experiments/trackastra/Fluo-N2DL-HeLa/02_RES already exists. Skipping...\n",
      "/home/ddon0001/PhD/experiments/trackastra/Fluo-N2DL-HeLa/01_RES already exists. Skipping...\n",
      "/home/ddon0001/PhD/experiments/trackastra/Fluo-C2DL-MSC/02_RES already exists. Skipping...\n",
      "/home/ddon0001/PhD/experiments/trackastra/Fluo-C2DL-MSC/01_RES already exists. Skipping...\n",
      "Tracking /home/ddon0001/PhD/experiments/trackastra/Fluo-C3DH-H157/02_RES\n"
     ]
    },
    {
     "name": "stderr",
     "output_type": "stream",
     "text": [
      "Loading TIFFs: 100%|██████████| 59/59 [01:03<00:00,  1.07s/it]\n",
      "Loading TIFFs: 100%|██████████| 59/59 [00:15<00:00,  3.90it/s]\n",
      "INFO:trackastra.model.model:Loading model state from /home/ddon0001/.trackastra/.models/ctc/model.pt\n",
      "/home/ddon0001/PhD/code/trackastra/trackastra/model/model.py:498: FutureWarning: You are using `torch.load` with `weights_only=False` (the current default value), which uses the default pickle module implicitly. It is possible to construct malicious pickle data which will execute arbitrary code during unpickling (See https://github.com/pytorch/pytorch/blob/main/SECURITY.md#untrusted-models for more details). In a future release, the default value for `weights_only` will be flipped to `True`. This limits the functions that could be executed during unpickling. Arbitrary objects will no longer be allowed to be loaded via this mode unless they are explicitly allowlisted by the user via `torch.serialization.add_safe_globals`. We recommend you start setting `weights_only=True` for any use case where you don't have full control of the loaded file. Please open an issue on GitHub for any issues related to this experimental feature.\n",
      "  state = torch.load(fpath, map_location=map_location)\n"
     ]
    },
    {
     "name": "stdout",
     "output_type": "stream",
     "text": [
      "/home/ddon0001/.trackastra/.models/ctc already downloaded, skipping.\n"
     ]
    },
    {
     "name": "stderr",
     "output_type": "stream",
     "text": [
      "INFO:trackastra.model.model_api:Using device cpu\n",
      "INFO:trackastra.model.model_api:Predicting weights for candidate graph\n"
     ]
    },
    {
     "ename": "",
     "evalue": "",
     "output_type": "error",
     "traceback": [
      "\u001b[1;31mThe Kernel crashed while executing code in the current cell or a previous cell. \n",
      "\u001b[1;31mPlease review the code in the cell(s) to identify a possible cause of the failure. \n",
      "\u001b[1;31mClick <a href='https://aka.ms/vscodeJupyterKernelCrash'>here</a> for more info. \n",
      "\u001b[1;31mView Jupyter <a href='command:jupyter.viewOutput'>log</a> for further details."
     ]
    }
   ],
   "source": [
    "import os\n",
    "import pandas as pd\n",
    "import torch\n",
    "from trackastra.model import Trackastra\n",
    "from trackastra.tracking import graph_to_ctc\n",
    "from tracktour import load_tiff_frames\n",
    "\n",
    "device = \"cuda\" if torch.cuda.is_available() else \"cpu\"\n",
    "\n",
    "root_dir = '/home/ddon0001/PhD/data/cell_tracking_challenge/SUBMISSION/'\n",
    "out_dir = '/home/ddon0001/PhD/experiments/trackastra/'\n",
    "\n",
    "ds_names = [name for name in os.listdir(root_dir)\n",
    "        if os.path.isdir(os.path.join(root_dir, name))]\n",
    "im_names = []\n",
    "err_seg_names = []\n",
    "res_names = []\n",
    "for name in ds_names:\n",
    "    seqs = [seq for seq in os.listdir(os.path.join(root_dir, name)) if '_ERR_SEG' in seq]\n",
    "    im_names.extend([f'{os.path.join(root_dir, name, seq[:2])}' for seq in seqs])\n",
    "    err_seg_names.extend([f'{os.path.join(root_dir, name, seq)}' for seq in seqs])\n",
    "    res_names.extend([f'{os.path.join(out_dir, name, seq[:2])}_RES' for seq in seqs])\n",
    "\n",
    "for i in range(len(im_names)):\n",
    "    im_path = im_names[i]\n",
    "    seg_path = err_seg_names[i]\n",
    "    out_path = res_names[i]\n",
    "\n",
    "    if os.path.exists(out_path):\n",
    "        print(f'{out_path} already exists. Skipping...')\n",
    "        continue\n",
    "    print(f'Tracking {out_path}')\n",
    "\n",
    "    # load data\n",
    "    imgs = load_tiff_frames(im_path)\n",
    "    masks = load_tiff_frames(seg_path)\n",
    "\n",
    "    # Load a pretrained model\n",
    "    model = Trackastra.from_pretrained(\"ctc\", device=device)\n",
    "\n",
    "    # or from a local folder\n",
    "    # model = Trackastra.from_folder('path/my_model_folder/', device=device)\n",
    "\n",
    "    # Track the cells\n",
    "    track_graph = model.track(imgs, masks, mode=\"ilp\")  # or mode=\"ilp\", or \"greedy_nodiv\"\n",
    "\n",
    "    # Write to cell tracking challenge format\n",
    "    ctc_tracks, masks_tracked = graph_to_ctc(\n",
    "        track_graph,\n",
    "        masks,\n",
    "        outdir=out_path,\n",
    "    )"
   ]
  }
 ],
 "metadata": {
  "kernelspec": {
   "display_name": "isbi25",
   "language": "python",
   "name": "python3"
  },
  "language_info": {
   "codemirror_mode": {
    "name": "ipython",
    "version": 3
   },
   "file_extension": ".py",
   "mimetype": "text/x-python",
   "name": "python",
   "nbconvert_exporter": "python",
   "pygments_lexer": "ipython3",
   "version": "3.10.14"
  }
 },
 "nbformat": 4,
 "nbformat_minor": 2
}
